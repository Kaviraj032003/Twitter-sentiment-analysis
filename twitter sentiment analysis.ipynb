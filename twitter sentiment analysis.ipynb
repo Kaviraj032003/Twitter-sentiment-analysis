{
 "cells": [
  {
   "cell_type": "code",
   "execution_count": 1,
   "id": "7236f27e",
   "metadata": {},
   "outputs": [],
   "source": [
    "dataset='output1.csv'"
   ]
  },
  {
   "cell_type": "code",
   "execution_count": 41,
   "id": "869d51a6",
   "metadata": {},
   "outputs": [],
   "source": [
    "import pandas as pd\n",
    "import numpy as np\n",
    "import re\n",
    "from nltk.corpus import stopwords\n",
    "from nltk.stem.porter import PorterStemmer\n",
    "from sklearn.feature_extraction.text import TfidfVectorizer\n",
    "from sklearn.model_selection import train_test_split\n",
    "from sklearn.linear_model import LogisticRegression\n",
    "from sklearn.metrics import accuracy_score"
   ]
  },
  {
   "cell_type": "code",
   "execution_count": 3,
   "id": "d2521a7e",
   "metadata": {},
   "outputs": [
    {
     "name": "stderr",
     "output_type": "stream",
     "text": [
      "[nltk_data] Downloading package stopwords to\n",
      "[nltk_data]     C:\\Users\\Admin\\AppData\\Roaming\\nltk_data...\n",
      "[nltk_data]   Package stopwords is already up-to-date!\n"
     ]
    },
    {
     "data": {
      "text/plain": [
       "True"
      ]
     },
     "execution_count": 3,
     "metadata": {},
     "output_type": "execute_result"
    }
   ],
   "source": [
    "import nltk\n",
    "nltk.download('stopwords')"
   ]
  },
  {
   "cell_type": "code",
   "execution_count": 4,
   "id": "91b6704c",
   "metadata": {},
   "outputs": [
    {
     "name": "stdout",
     "output_type": "stream",
     "text": [
      "['i', 'me', 'my', 'myself', 'we', 'our', 'ours', 'ourselves', 'you', \"you're\", \"you've\", \"you'll\", \"you'd\", 'your', 'yours', 'yourself', 'yourselves', 'he', 'him', 'his', 'himself', 'she', \"she's\", 'her', 'hers', 'herself', 'it', \"it's\", 'its', 'itself', 'they', 'them', 'their', 'theirs', 'themselves', 'what', 'which', 'who', 'whom', 'this', 'that', \"that'll\", 'these', 'those', 'am', 'is', 'are', 'was', 'were', 'be', 'been', 'being', 'have', 'has', 'had', 'having', 'do', 'does', 'did', 'doing', 'a', 'an', 'the', 'and', 'but', 'if', 'or', 'because', 'as', 'until', 'while', 'of', 'at', 'by', 'for', 'with', 'about', 'against', 'between', 'into', 'through', 'during', 'before', 'after', 'above', 'below', 'to', 'from', 'up', 'down', 'in', 'out', 'on', 'off', 'over', 'under', 'again', 'further', 'then', 'once', 'here', 'there', 'when', 'where', 'why', 'how', 'all', 'any', 'both', 'each', 'few', 'more', 'most', 'other', 'some', 'such', 'no', 'nor', 'not', 'only', 'own', 'same', 'so', 'than', 'too', 'very', 's', 't', 'can', 'will', 'just', 'don', \"don't\", 'should', \"should've\", 'now', 'd', 'll', 'm', 'o', 're', 've', 'y', 'ain', 'aren', \"aren't\", 'couldn', \"couldn't\", 'didn', \"didn't\", 'doesn', \"doesn't\", 'hadn', \"hadn't\", 'hasn', \"hasn't\", 'haven', \"haven't\", 'isn', \"isn't\", 'ma', 'mightn', \"mightn't\", 'mustn', \"mustn't\", 'needn', \"needn't\", 'shan', \"shan't\", 'shouldn', \"shouldn't\", 'wasn', \"wasn't\", 'weren', \"weren't\", 'won', \"won't\", 'wouldn', \"wouldn't\"]\n"
     ]
    }
   ],
   "source": [
    "#printing the stopwords in english\n",
    "print(stopwords.words('english'))"
   ]
  },
  {
   "cell_type": "code",
   "execution_count": 9,
   "id": "6279b7d9",
   "metadata": {},
   "outputs": [],
   "source": [
    "#data processing\n",
    "#loading the data from csv to pandas dataframe\n",
    "twitter_data = pd.read_csv('output1.csv', encoding='ISO-8859-1')"
   ]
  },
  {
   "cell_type": "code",
   "execution_count": 10,
   "id": "ec5c92f4",
   "metadata": {},
   "outputs": [
    {
     "data": {
      "text/plain": [
       "(5999, 6)"
      ]
     },
     "execution_count": 10,
     "metadata": {},
     "output_type": "execute_result"
    }
   ],
   "source": [
    "#checking the number of rows and columns\n",
    "twitter_data.shape"
   ]
  },
  {
   "cell_type": "code",
   "execution_count": 11,
   "id": "028cfd40",
   "metadata": {},
   "outputs": [
    {
     "data": {
      "text/html": [
       "<div>\n",
       "<style scoped>\n",
       "    .dataframe tbody tr th:only-of-type {\n",
       "        vertical-align: middle;\n",
       "    }\n",
       "\n",
       "    .dataframe tbody tr th {\n",
       "        vertical-align: top;\n",
       "    }\n",
       "\n",
       "    .dataframe thead th {\n",
       "        text-align: right;\n",
       "    }\n",
       "</style>\n",
       "<table border=\"1\" class=\"dataframe\">\n",
       "  <thead>\n",
       "    <tr style=\"text-align: right;\">\n",
       "      <th></th>\n",
       "      <th>0</th>\n",
       "      <th>1467810369</th>\n",
       "      <th>Mon Apr 06 22:19:45 PDT 2009</th>\n",
       "      <th>NO_QUERY</th>\n",
       "      <th>_TheSpecialOne_</th>\n",
       "      <th>@switchfoot http://twitpic.com/2y1zl - Awww, that's a bummer.  You shoulda got David Carr of Third Day to do it. ;D</th>\n",
       "    </tr>\n",
       "  </thead>\n",
       "  <tbody>\n",
       "    <tr>\n",
       "      <th>0</th>\n",
       "      <td>4</td>\n",
       "      <td>2187157363</td>\n",
       "      <td>Mon Jun 15 19:52:26 PDT 2009</td>\n",
       "      <td>NO_QUERY</td>\n",
       "      <td>TidyCat</td>\n",
       "      <td>@firedancertat aight - good night twitter - i ...</td>\n",
       "    </tr>\n",
       "    <tr>\n",
       "      <th>1</th>\n",
       "      <td>4</td>\n",
       "      <td>1981086700</td>\n",
       "      <td>Sun May 31 08:23:08 PDT 2009</td>\n",
       "      <td>NO_QUERY</td>\n",
       "      <td>iiiccchhhaaa</td>\n",
       "      <td>@LeonnieFM you're very welcome</td>\n",
       "    </tr>\n",
       "    <tr>\n",
       "      <th>2</th>\n",
       "      <td>4</td>\n",
       "      <td>2001780956</td>\n",
       "      <td>Tue Jun 02 02:03:03 PDT 2009</td>\n",
       "      <td>NO_QUERY</td>\n",
       "      <td>myatsang</td>\n",
       "      <td>Am watching old hk tv seriesä»æ?¥èªæ±æ¹. M...</td>\n",
       "    </tr>\n",
       "    <tr>\n",
       "      <th>3</th>\n",
       "      <td>0</td>\n",
       "      <td>1557914489</td>\n",
       "      <td>Sun Apr 19 06:33:09 PDT 2009</td>\n",
       "      <td>NO_QUERY</td>\n",
       "      <td>Scribbsc</td>\n",
       "      <td>http://twitpic.com/3ldd4 - the last thing I re...</td>\n",
       "    </tr>\n",
       "    <tr>\n",
       "      <th>4</th>\n",
       "      <td>0</td>\n",
       "      <td>2192831319</td>\n",
       "      <td>Tue Jun 16 07:36:48 PDT 2009</td>\n",
       "      <td>NO_QUERY</td>\n",
       "      <td>jameane</td>\n",
       "      <td>Really irritated about these phantom updates n...</td>\n",
       "    </tr>\n",
       "  </tbody>\n",
       "</table>\n",
       "</div>"
      ],
      "text/plain": [
       "   0  1467810369  Mon Apr 06 22:19:45 PDT 2009  NO_QUERY _TheSpecialOne_  \\\n",
       "0  4  2187157363  Mon Jun 15 19:52:26 PDT 2009  NO_QUERY         TidyCat   \n",
       "1  4  1981086700  Sun May 31 08:23:08 PDT 2009  NO_QUERY    iiiccchhhaaa   \n",
       "2  4  2001780956  Tue Jun 02 02:03:03 PDT 2009  NO_QUERY        myatsang   \n",
       "3  0  1557914489  Sun Apr 19 06:33:09 PDT 2009  NO_QUERY        Scribbsc   \n",
       "4  0  2192831319  Tue Jun 16 07:36:48 PDT 2009  NO_QUERY         jameane   \n",
       "\n",
       "  @switchfoot http://twitpic.com/2y1zl - Awww, that's a bummer.  You shoulda got David Carr of Third Day to do it. ;D  \n",
       "0  @firedancertat aight - good night twitter - i ...                                                                   \n",
       "1                    @LeonnieFM you're very welcome                                                                    \n",
       "2  Am watching old hk tv seriesä»æ?¥èªæ±æ¹. M...                                                                   \n",
       "3  http://twitpic.com/3ldd4 - the last thing I re...                                                                   \n",
       "4  Really irritated about these phantom updates n...                                                                   "
      ]
     },
     "execution_count": 11,
     "metadata": {},
     "output_type": "execute_result"
    }
   ],
   "source": [
    "#printing the first five rows of the dataframe\n",
    "twitter_data.head()"
   ]
  },
  {
   "cell_type": "code",
   "execution_count": 17,
   "id": "1b6358ce",
   "metadata": {},
   "outputs": [],
   "source": [
    "#naming the columns and reading the dataset again\n",
    "column_names=['target','id','date','flag','user','text']\n",
    "twitter_data = pd.read_csv('output1.csv', names=column_names, encoding='ISO-8859-1')"
   ]
  },
  {
   "cell_type": "code",
   "execution_count": 18,
   "id": "56234481",
   "metadata": {},
   "outputs": [
    {
     "data": {
      "text/html": [
       "<div>\n",
       "<style scoped>\n",
       "    .dataframe tbody tr th:only-of-type {\n",
       "        vertical-align: middle;\n",
       "    }\n",
       "\n",
       "    .dataframe tbody tr th {\n",
       "        vertical-align: top;\n",
       "    }\n",
       "\n",
       "    .dataframe thead th {\n",
       "        text-align: right;\n",
       "    }\n",
       "</style>\n",
       "<table border=\"1\" class=\"dataframe\">\n",
       "  <thead>\n",
       "    <tr style=\"text-align: right;\">\n",
       "      <th></th>\n",
       "      <th>target</th>\n",
       "      <th>id</th>\n",
       "      <th>date</th>\n",
       "      <th>flag</th>\n",
       "      <th>user</th>\n",
       "      <th>text</th>\n",
       "    </tr>\n",
       "  </thead>\n",
       "  <tbody>\n",
       "    <tr>\n",
       "      <th>0</th>\n",
       "      <td>0</td>\n",
       "      <td>1467810369</td>\n",
       "      <td>Mon Apr 06 22:19:45 PDT 2009</td>\n",
       "      <td>NO_QUERY</td>\n",
       "      <td>_TheSpecialOne_</td>\n",
       "      <td>@switchfoot http://twitpic.com/2y1zl - Awww, t...</td>\n",
       "    </tr>\n",
       "    <tr>\n",
       "      <th>1</th>\n",
       "      <td>4</td>\n",
       "      <td>2187157363</td>\n",
       "      <td>Mon Jun 15 19:52:26 PDT 2009</td>\n",
       "      <td>NO_QUERY</td>\n",
       "      <td>TidyCat</td>\n",
       "      <td>@firedancertat aight - good night twitter - i ...</td>\n",
       "    </tr>\n",
       "    <tr>\n",
       "      <th>2</th>\n",
       "      <td>4</td>\n",
       "      <td>1981086700</td>\n",
       "      <td>Sun May 31 08:23:08 PDT 2009</td>\n",
       "      <td>NO_QUERY</td>\n",
       "      <td>iiiccchhhaaa</td>\n",
       "      <td>@LeonnieFM you're very welcome</td>\n",
       "    </tr>\n",
       "    <tr>\n",
       "      <th>3</th>\n",
       "      <td>4</td>\n",
       "      <td>2001780956</td>\n",
       "      <td>Tue Jun 02 02:03:03 PDT 2009</td>\n",
       "      <td>NO_QUERY</td>\n",
       "      <td>myatsang</td>\n",
       "      <td>Am watching old hk tv seriesä»æ?¥èªæ±æ¹. M...</td>\n",
       "    </tr>\n",
       "    <tr>\n",
       "      <th>4</th>\n",
       "      <td>0</td>\n",
       "      <td>1557914489</td>\n",
       "      <td>Sun Apr 19 06:33:09 PDT 2009</td>\n",
       "      <td>NO_QUERY</td>\n",
       "      <td>Scribbsc</td>\n",
       "      <td>http://twitpic.com/3ldd4 - the last thing I re...</td>\n",
       "    </tr>\n",
       "  </tbody>\n",
       "</table>\n",
       "</div>"
      ],
      "text/plain": [
       "   target          id                          date      flag  \\\n",
       "0       0  1467810369  Mon Apr 06 22:19:45 PDT 2009  NO_QUERY   \n",
       "1       4  2187157363  Mon Jun 15 19:52:26 PDT 2009  NO_QUERY   \n",
       "2       4  1981086700  Sun May 31 08:23:08 PDT 2009  NO_QUERY   \n",
       "3       4  2001780956  Tue Jun 02 02:03:03 PDT 2009  NO_QUERY   \n",
       "4       0  1557914489  Sun Apr 19 06:33:09 PDT 2009  NO_QUERY   \n",
       "\n",
       "              user                                               text  \n",
       "0  _TheSpecialOne_  @switchfoot http://twitpic.com/2y1zl - Awww, t...  \n",
       "1          TidyCat  @firedancertat aight - good night twitter - i ...  \n",
       "2     iiiccchhhaaa                    @LeonnieFM you're very welcome   \n",
       "3         myatsang  Am watching old hk tv seriesä»æ?¥èªæ±æ¹. M...  \n",
       "4         Scribbsc  http://twitpic.com/3ldd4 - the last thing I re...  "
      ]
     },
     "execution_count": 18,
     "metadata": {},
     "output_type": "execute_result"
    }
   ],
   "source": [
    "twitter_data.head()"
   ]
  },
  {
   "cell_type": "code",
   "execution_count": 19,
   "id": "d2887310",
   "metadata": {
    "scrolled": true
   },
   "outputs": [
    {
     "data": {
      "text/plain": [
       "(6000, 6)"
      ]
     },
     "execution_count": 19,
     "metadata": {},
     "output_type": "execute_result"
    }
   ],
   "source": [
    "#one extra column since we added a column\n",
    "twitter_data.shape"
   ]
  },
  {
   "cell_type": "code",
   "execution_count": 20,
   "id": "ac82e40b",
   "metadata": {},
   "outputs": [
    {
     "data": {
      "text/plain": [
       "target    0\n",
       "id        0\n",
       "date      0\n",
       "flag      0\n",
       "user      0\n",
       "text      0\n",
       "dtype: int64"
      ]
     },
     "execution_count": 20,
     "metadata": {},
     "output_type": "execute_result"
    }
   ],
   "source": [
    "#counting the number of missing values in the dataset\n",
    "twitter_data.isnull().sum()"
   ]
  },
  {
   "cell_type": "code",
   "execution_count": 21,
   "id": "0d937d06",
   "metadata": {},
   "outputs": [
    {
     "data": {
      "text/plain": [
       "4    3018\n",
       "0    2982\n",
       "Name: target, dtype: int64"
      ]
     },
     "execution_count": 21,
     "metadata": {},
     "output_type": "execute_result"
    }
   ],
   "source": [
    "#checking the distribution of traget column\n",
    "twitter_data['target'].value_counts()"
   ]
  },
  {
   "cell_type": "code",
   "execution_count": 22,
   "id": "84979779",
   "metadata": {},
   "outputs": [],
   "source": [
    "#converting 4 into 1\n",
    "twitter_data.replace({'target':{4:1}}, inplace=True)"
   ]
  },
  {
   "cell_type": "code",
   "execution_count": 23,
   "id": "a46f1c6a",
   "metadata": {},
   "outputs": [
    {
     "data": {
      "text/plain": [
       "1    3018\n",
       "0    2982\n",
       "Name: target, dtype: int64"
      ]
     },
     "execution_count": 23,
     "metadata": {},
     "output_type": "execute_result"
    }
   ],
   "source": [
    "twitter_data['target'].value_counts()"
   ]
  },
  {
   "cell_type": "code",
   "execution_count": 24,
   "id": "6351e6ba",
   "metadata": {},
   "outputs": [],
   "source": [
    "#0==>negative tweet and 1==> positive tweet"
   ]
  },
  {
   "cell_type": "code",
   "execution_count": 25,
   "id": "14ab4541",
   "metadata": {},
   "outputs": [],
   "source": [
    "#stemming\n",
    "port_stem = PorterStemmer()"
   ]
  },
  {
   "cell_type": "code",
   "execution_count": 26,
   "id": "bb507d92",
   "metadata": {},
   "outputs": [],
   "source": [
    "def stemming(content):\n",
    "    \n",
    "    stemmed_content = re.sub('[^a-zA-z]',' ', content)\n",
    "    stemmed_content = stemmed_content.lower()\n",
    "    stemmed_content = stemmed_content.split()\n",
    "    stemmed_content = [port_stem.stem(word) for word in stemmed_content if not word in stopwords.words('english')]\n",
    "    stemmed_content = ' '.join(stemmed_content)\n",
    "    \n",
    "    return stemmed_content"
   ]
  },
  {
   "cell_type": "code",
   "execution_count": 27,
   "id": "2b986af5",
   "metadata": {},
   "outputs": [],
   "source": [
    "twitter_data['stemmed_content'] = twitter_data['text'].apply(stemming)"
   ]
  },
  {
   "cell_type": "code",
   "execution_count": 28,
   "id": "d2f192db",
   "metadata": {},
   "outputs": [
    {
     "data": {
      "text/html": [
       "<div>\n",
       "<style scoped>\n",
       "    .dataframe tbody tr th:only-of-type {\n",
       "        vertical-align: middle;\n",
       "    }\n",
       "\n",
       "    .dataframe tbody tr th {\n",
       "        vertical-align: top;\n",
       "    }\n",
       "\n",
       "    .dataframe thead th {\n",
       "        text-align: right;\n",
       "    }\n",
       "</style>\n",
       "<table border=\"1\" class=\"dataframe\">\n",
       "  <thead>\n",
       "    <tr style=\"text-align: right;\">\n",
       "      <th></th>\n",
       "      <th>target</th>\n",
       "      <th>id</th>\n",
       "      <th>date</th>\n",
       "      <th>flag</th>\n",
       "      <th>user</th>\n",
       "      <th>text</th>\n",
       "      <th>stemmed_content</th>\n",
       "    </tr>\n",
       "  </thead>\n",
       "  <tbody>\n",
       "    <tr>\n",
       "      <th>0</th>\n",
       "      <td>0</td>\n",
       "      <td>1467810369</td>\n",
       "      <td>Mon Apr 06 22:19:45 PDT 2009</td>\n",
       "      <td>NO_QUERY</td>\n",
       "      <td>_TheSpecialOne_</td>\n",
       "      <td>@switchfoot http://twitpic.com/2y1zl - Awww, t...</td>\n",
       "      <td>switchfoot http twitpic com zl awww bummer sho...</td>\n",
       "    </tr>\n",
       "    <tr>\n",
       "      <th>1</th>\n",
       "      <td>1</td>\n",
       "      <td>2187157363</td>\n",
       "      <td>Mon Jun 15 19:52:26 PDT 2009</td>\n",
       "      <td>NO_QUERY</td>\n",
       "      <td>TidyCat</td>\n",
       "      <td>@firedancertat aight - good night twitter - i ...</td>\n",
       "      <td>firedancertat aight good night twitter think s...</td>\n",
       "    </tr>\n",
       "    <tr>\n",
       "      <th>2</th>\n",
       "      <td>1</td>\n",
       "      <td>1981086700</td>\n",
       "      <td>Sun May 31 08:23:08 PDT 2009</td>\n",
       "      <td>NO_QUERY</td>\n",
       "      <td>iiiccchhhaaa</td>\n",
       "      <td>@LeonnieFM you're very welcome</td>\n",
       "      <td>leonniefm welcom</td>\n",
       "    </tr>\n",
       "    <tr>\n",
       "      <th>3</th>\n",
       "      <td>1</td>\n",
       "      <td>2001780956</td>\n",
       "      <td>Tue Jun 02 02:03:03 PDT 2009</td>\n",
       "      <td>NO_QUERY</td>\n",
       "      <td>myatsang</td>\n",
       "      <td>Am watching old hk tv seriesä»æ?¥èªæ±æ¹. M...</td>\n",
       "      <td>watch old hk tv seri mind numb fun</td>\n",
       "    </tr>\n",
       "    <tr>\n",
       "      <th>4</th>\n",
       "      <td>0</td>\n",
       "      <td>1557914489</td>\n",
       "      <td>Sun Apr 19 06:33:09 PDT 2009</td>\n",
       "      <td>NO_QUERY</td>\n",
       "      <td>Scribbsc</td>\n",
       "      <td>http://twitpic.com/3ldd4 - the last thing I re...</td>\n",
       "      <td>http twitpic com ldd last thing rememb</td>\n",
       "    </tr>\n",
       "  </tbody>\n",
       "</table>\n",
       "</div>"
      ],
      "text/plain": [
       "   target          id                          date      flag  \\\n",
       "0       0  1467810369  Mon Apr 06 22:19:45 PDT 2009  NO_QUERY   \n",
       "1       1  2187157363  Mon Jun 15 19:52:26 PDT 2009  NO_QUERY   \n",
       "2       1  1981086700  Sun May 31 08:23:08 PDT 2009  NO_QUERY   \n",
       "3       1  2001780956  Tue Jun 02 02:03:03 PDT 2009  NO_QUERY   \n",
       "4       0  1557914489  Sun Apr 19 06:33:09 PDT 2009  NO_QUERY   \n",
       "\n",
       "              user                                               text  \\\n",
       "0  _TheSpecialOne_  @switchfoot http://twitpic.com/2y1zl - Awww, t...   \n",
       "1          TidyCat  @firedancertat aight - good night twitter - i ...   \n",
       "2     iiiccchhhaaa                    @LeonnieFM you're very welcome    \n",
       "3         myatsang  Am watching old hk tv seriesä»æ?¥èªæ±æ¹. M...   \n",
       "4         Scribbsc  http://twitpic.com/3ldd4 - the last thing I re...   \n",
       "\n",
       "                                     stemmed_content  \n",
       "0  switchfoot http twitpic com zl awww bummer sho...  \n",
       "1  firedancertat aight good night twitter think s...  \n",
       "2                                   leonniefm welcom  \n",
       "3                 watch old hk tv seri mind numb fun  \n",
       "4             http twitpic com ldd last thing rememb  "
      ]
     },
     "execution_count": 28,
     "metadata": {},
     "output_type": "execute_result"
    }
   ],
   "source": [
    "twitter_data.head()"
   ]
  },
  {
   "cell_type": "code",
   "execution_count": 29,
   "id": "73153b22",
   "metadata": {},
   "outputs": [
    {
     "name": "stdout",
     "output_type": "stream",
     "text": [
      "0       switchfoot http twitpic com zl awww bummer sho...\n",
      "1       firedancertat aight good night twitter think s...\n",
      "2                                        leonniefm welcom\n",
      "3                      watch old hk tv seri mind numb fun\n",
      "4                  http twitpic com ldd last thing rememb\n",
      "                              ...                        \n",
      "5995                                              go work\n",
      "5996                                leav soon readi cruis\n",
      "5997                                        mommi nooooob\n",
      "5998    markhoppu hey mark hope well wonder know go an...\n",
      "5999            degrafik one thing learnt sinus pain nose\n",
      "Name: stemmed_content, Length: 6000, dtype: object\n"
     ]
    }
   ],
   "source": [
    "print(twitter_data['stemmed_content'])"
   ]
  },
  {
   "cell_type": "code",
   "execution_count": 30,
   "id": "36208c53",
   "metadata": {},
   "outputs": [
    {
     "name": "stdout",
     "output_type": "stream",
     "text": [
      "0       0\n",
      "1       1\n",
      "2       1\n",
      "3       1\n",
      "4       0\n",
      "       ..\n",
      "5995    0\n",
      "5996    1\n",
      "5997    1\n",
      "5998    1\n",
      "5999    0\n",
      "Name: target, Length: 6000, dtype: int64\n"
     ]
    }
   ],
   "source": [
    "print(twitter_data['target'])"
   ]
  },
  {
   "cell_type": "code",
   "execution_count": 34,
   "id": "681e6531",
   "metadata": {},
   "outputs": [],
   "source": [
    "#separating the data and label\n",
    "X = twitter_data['stemmed_content'].values\n",
    "Y = twitter_data['target'].values"
   ]
  },
  {
   "cell_type": "code",
   "execution_count": 35,
   "id": "8176a27b",
   "metadata": {},
   "outputs": [
    {
     "name": "stdout",
     "output_type": "stream",
     "text": [
      "['switchfoot http twitpic com zl awww bummer shoulda got david carr third day'\n",
      " 'firedancertat aight good night twitter think surviv monday see tomorrow ^ ^'\n",
      " 'leonniefm welcom' ... 'mommi nooooob'\n",
      " 'markhoppu hey mark hope well wonder know go announc blink tour date xx'\n",
      " 'degrafik one thing learnt sinus pain nose']\n"
     ]
    }
   ],
   "source": [
    "print(X)"
   ]
  },
  {
   "cell_type": "code",
   "execution_count": 36,
   "id": "a6dc6b1f",
   "metadata": {},
   "outputs": [
    {
     "name": "stdout",
     "output_type": "stream",
     "text": [
      "[0 1 1 ... 1 1 0]\n"
     ]
    }
   ],
   "source": [
    "print(Y)"
   ]
  },
  {
   "cell_type": "code",
   "execution_count": 37,
   "id": "30f3b019",
   "metadata": {},
   "outputs": [],
   "source": [
    "#spliiting the data into training data and test data\n",
    "X_train,X_test,Y_train,Y_test = train_test_split(X,Y, test_size=0.2, stratify=Y, random_state=2)"
   ]
  },
  {
   "cell_type": "code",
   "execution_count": 39,
   "id": "8baa6abe",
   "metadata": {},
   "outputs": [
    {
     "name": "stdout",
     "output_type": "stream",
     "text": [
      "(6000,) (4800,) (1200,)\n"
     ]
    }
   ],
   "source": [
    "print(X.shape,X_train.shape, X_test.shape)"
   ]
  },
  {
   "cell_type": "code",
   "execution_count": 42,
   "id": "f0156599",
   "metadata": {},
   "outputs": [],
   "source": [
    "#converting the actual data to numerical data\n",
    "\n",
    "vectorizer = TfidfVectorizer()\n",
    "X_train = vectorizer.fit_transform(X_train)\n",
    "X_test = vectorizer.transform(X_test)"
   ]
  },
  {
   "cell_type": "code",
   "execution_count": 43,
   "id": "205cd022",
   "metadata": {},
   "outputs": [
    {
     "name": "stdout",
     "output_type": "stream",
     "text": [
      "  (0, 2495)\t0.2840983562368176\n",
      "  (0, 1616)\t0.27060308387855875\n",
      "  (0, 4421)\t0.24857206263476367\n",
      "  (0, 3413)\t0.3722198860411007\n",
      "  (0, 9226)\t0.35503728922720496\n",
      "  (0, 47)\t0.27681577231507737\n",
      "  (0, 8900)\t0.32566344595911056\n",
      "  (0, 6214)\t0.27060308387855875\n",
      "  (0, 8365)\t0.3722198860411007\n",
      "  (0, 5595)\t0.19906643296771465\n",
      "  (0, 4696)\t0.17077462715465366\n",
      "  (0, 7793)\t0.2375419161548275\n",
      "  (1, 5762)\t0.2557619861534069\n",
      "  (1, 4901)\t0.1644605224095848\n",
      "  (1, 875)\t0.14834667279576166\n",
      "  (1, 3749)\t0.1209464765932917\n",
      "  (1, 1764)\t0.243955375993116\n",
      "  (1, 6644)\t0.243955375993116\n",
      "  (1, 6357)\t0.2290808063221701\n",
      "  (1, 309)\t0.13558526616210123\n",
      "  (1, 5591)\t0.22377184261151387\n",
      "  (1, 1781)\t0.4581616126443402\n",
      "  (1, 4979)\t0.17891611098845012\n",
      "  (1, 8574)\t0.2557619861534069\n",
      "  (1, 7077)\t0.21928317775165435\n",
      "  :\t:\n",
      "  (4795, 4872)\t0.40982419676588316\n",
      "  (4795, 5803)\t0.3174701738276392\n",
      "  (4795, 3254)\t0.2614510798614556\n",
      "  (4796, 8380)\t0.5741949699805639\n",
      "  (4796, 3204)\t0.38001153676208005\n",
      "  (4796, 3595)\t0.36508969699283134\n",
      "  (4796, 9031)\t0.4145326272549274\n",
      "  (4796, 8088)\t0.3314294630873705\n",
      "  (4796, 875)\t0.3330436810167235\n",
      "  (4797, 778)\t0.4546685505555856\n",
      "  (4797, 1091)\t0.4546685505555856\n",
      "  (4797, 6535)\t0.4546685505555856\n",
      "  (4797, 7973)\t0.31114733372864045\n",
      "  (4797, 8995)\t0.32189564776999374\n",
      "  (4797, 8573)\t0.27289572926350236\n",
      "  (4797, 6387)\t0.3239258819808695\n",
      "  (4798, 5190)\t0.774495060518719\n",
      "  (4798, 6687)\t0.6325799563945302\n",
      "  (4799, 8234)\t0.40251602828331395\n",
      "  (4799, 2173)\t0.39233788310870443\n",
      "  (4799, 4889)\t0.39722317500768045\n",
      "  (4799, 5518)\t0.42170405215586265\n",
      "  (4799, 6586)\t0.2930606785004761\n",
      "  (4799, 3771)\t0.44381367862073684\n",
      "  (4799, 8998)\t0.25607836978339277\n"
     ]
    }
   ],
   "source": [
    "print(X_train)"
   ]
  },
  {
   "cell_type": "code",
   "execution_count": 44,
   "id": "a8146a9b",
   "metadata": {},
   "outputs": [
    {
     "name": "stdout",
     "output_type": "stream",
     "text": [
      "  (0, 7479)\t0.3509771121660947\n",
      "  (0, 7473)\t0.3093184293564991\n",
      "  (0, 5973)\t0.3994890777350321\n",
      "  (0, 5067)\t0.3736282297344963\n",
      "  (0, 3782)\t0.3604045751301241\n",
      "  (0, 3485)\t0.35872892365261977\n",
      "  (0, 3288)\t0.26197545156492036\n",
      "  (0, 504)\t0.3933682283173373\n",
      "  (1, 6193)\t0.5805031257323886\n",
      "  (1, 4578)\t0.41435474337321726\n",
      "  (1, 4377)\t0.3928643387659011\n",
      "  (1, 666)\t0.5805031257323886\n",
      "  (2, 9031)\t0.4728575676986458\n",
      "  (2, 7793)\t0.4179955827922301\n",
      "  (2, 5816)\t0.4761723555242701\n",
      "  (2, 4949)\t0.3454395757588064\n",
      "  (2, 4750)\t0.43541634677987906\n",
      "  (2, 3233)\t0.25696187601901693\n",
      "  (3, 8998)\t0.20705449142576843\n",
      "  (3, 8090)\t0.2320288938462945\n",
      "  (3, 7072)\t0.37966019124182027\n",
      "  (3, 6579)\t0.29835478035174195\n",
      "  (3, 5556)\t0.23349543024120128\n",
      "  (3, 3656)\t0.40378325999671416\n",
      "  (3, 3644)\t0.4300015291271975\n",
      "  :\t:\n",
      "  (1195, 6558)\t0.37896513472512716\n",
      "  (1195, 3727)\t0.2743216022077737\n",
      "  (1195, 2519)\t0.3213387542185608\n",
      "  (1195, 141)\t0.3287162664550248\n",
      "  (1196, 8757)\t0.21451732816523278\n",
      "  (1196, 7198)\t0.30522414591126185\n",
      "  (1196, 7036)\t0.28557546181558413\n",
      "  (1196, 6742)\t0.25131739537763376\n",
      "  (1196, 6527)\t0.27163449858950306\n",
      "  (1196, 5522)\t0.3649333575550562\n",
      "  (1196, 3233)\t0.16698671761739292\n",
      "  (1196, 3196)\t0.38123867348022494\n",
      "  (1196, 1621)\t0.5795839997455405\n",
      "  (1197, 8427)\t0.4155600328141114\n",
      "  (1197, 5496)\t0.6539798802914929\n",
      "  (1197, 2009)\t0.6321551829269925\n",
      "  (1198, 6007)\t0.6181197395257882\n",
      "  (1198, 4864)\t0.3930183303702514\n",
      "  (1198, 4241)\t0.4863947109915858\n",
      "  (1198, 1128)\t0.476324222269835\n",
      "  (1199, 8773)\t0.3238682632753406\n",
      "  (1199, 8413)\t0.554645373660417\n",
      "  (1199, 1908)\t0.43575169845218675\n",
      "  (1199, 597)\t0.46052578060997823\n",
      "  (1199, 77)\t0.430713733481666\n"
     ]
    }
   ],
   "source": [
    "print(X_test)"
   ]
  },
  {
   "cell_type": "code",
   "execution_count": 45,
   "id": "be5dd58c",
   "metadata": {},
   "outputs": [],
   "source": [
    "#training the ML model using logistic regression model\n",
    "\n",
    "model = LogisticRegression(max_iter=1000)"
   ]
  },
  {
   "cell_type": "code",
   "execution_count": 46,
   "id": "a7f23c98",
   "metadata": {},
   "outputs": [
    {
     "data": {
      "text/plain": [
       "LogisticRegression(max_iter=1000)"
      ]
     },
     "execution_count": 46,
     "metadata": {},
     "output_type": "execute_result"
    }
   ],
   "source": [
    "model.fit(X_train,Y_train)"
   ]
  },
  {
   "cell_type": "code",
   "execution_count": 48,
   "id": "25bc745e",
   "metadata": {},
   "outputs": [],
   "source": [
    "#model evaluation\n",
    "\n",
    "#accuracy score on training data\n",
    "X_train_prediction = model.predict(X_train)\n",
    "training_data_accuracy = accuracy_score(Y_train,X_train_prediction)"
   ]
  },
  {
   "cell_type": "code",
   "execution_count": 49,
   "id": "02732ff8",
   "metadata": {},
   "outputs": [
    {
     "name": "stdout",
     "output_type": "stream",
     "text": [
      "Accuracy score on training data : 0.8854166666666666\n"
     ]
    }
   ],
   "source": [
    "print('Accuracy score on training data :',training_data_accuracy)"
   ]
  },
  {
   "cell_type": "code",
   "execution_count": 50,
   "id": "043c3b1f",
   "metadata": {},
   "outputs": [],
   "source": [
    "#accuracy score on test data\n",
    "X_test_prediction = model.predict(X_test)\n",
    "test_data_accuracy = accuracy_score(Y_test,X_test_prediction)"
   ]
  },
  {
   "cell_type": "code",
   "execution_count": 51,
   "id": "ec799d5e",
   "metadata": {},
   "outputs": [
    {
     "name": "stdout",
     "output_type": "stream",
     "text": [
      "Accuracy score on test data : 0.7208333333333333\n"
     ]
    }
   ],
   "source": [
    "print('Accuracy score on test data :',test_data_accuracy)"
   ]
  },
  {
   "cell_type": "code",
   "execution_count": 52,
   "id": "bad270db",
   "metadata": {},
   "outputs": [],
   "source": [
    "#saving the trained model\n",
    "import pickle\n",
    "filename = 'trained_model.sav'\n",
    "pickle.dump(model, open(filename, 'wb'))"
   ]
  },
  {
   "cell_type": "code",
   "execution_count": 53,
   "id": "43f0a4f5",
   "metadata": {},
   "outputs": [],
   "source": [
    "#loading the saved model\n",
    "loadel_model = pickle.load(open('trained_model.sav', 'rb'))"
   ]
  },
  {
   "cell_type": "code",
   "execution_count": 56,
   "id": "446c6895",
   "metadata": {},
   "outputs": [
    {
     "name": "stdout",
     "output_type": "stream",
     "text": [
      "0\n",
      "[0]\n",
      "Negative tweet\n"
     ]
    }
   ],
   "source": [
    "X_new = X_test[3]\n",
    "print(Y_test[3])\n",
    "\n",
    "prediction = model.predict(X_new)\n",
    "print(prediction)\n",
    "\n",
    "if(prediction[0] == 0):\n",
    "    print('Negative tweet')\n",
    "    \n",
    "else:\n",
    "    print('Positive tweet')"
   ]
  },
  {
   "cell_type": "code",
   "execution_count": null,
   "id": "a3418dee",
   "metadata": {},
   "outputs": [],
   "source": []
  }
 ],
 "metadata": {
  "kernelspec": {
   "display_name": "Python 3 (ipykernel)",
   "language": "python",
   "name": "python3"
  },
  "language_info": {
   "codemirror_mode": {
    "name": "ipython",
    "version": 3
   },
   "file_extension": ".py",
   "mimetype": "text/x-python",
   "name": "python",
   "nbconvert_exporter": "python",
   "pygments_lexer": "ipython3",
   "version": "3.9.13"
  }
 },
 "nbformat": 4,
 "nbformat_minor": 5
}
